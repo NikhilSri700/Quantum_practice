{
 "cells": [
  {
   "cell_type": "markdown",
   "metadata": {},
   "source": [
    "# What is Quantum Computing?\n",
    " - Classical physics failed to describe the behavior of small things in a laboratory which was overcomed by Quantum Physics.\n",
    " - Quantum theory explains this behavior and gives us a more complete picture of our universe.\n",
    " - Quantum computing is the perfect way to dip your toes into quantum physics.\n",
    " "
   ]
  },
  {
   "cell_type": "code",
   "execution_count": 1,
   "metadata": {},
   "outputs": [],
   "source": [
    "%matplotlib inline\n",
    "# Importing standard Qiskit libraries and configuring account\n",
    "from qiskit import *\n",
    "from numpy.random import randint\n",
    "import numpy as np\n",
    "# from qiskit.compiler import transpile, assemble\n",
    "# from qiskit.tools.jupyter import *\n",
    "# from qiskit.visualization import *\n",
    "# Loading your IBM Q account(s)\n",
    "# provider = IBMQ.load_account()"
   ]
  },
  {
   "attachments": {},
   "cell_type": "markdown",
   "metadata": {},
   "source": [
    "### Representing Qubit states\n",
    "- Classical bits are well defined having state either 0 or 1.\n",
    "- In quantum model vectors represent the qubit states.\n",
    "- A simple notation of 0 and 1 in quantum:\n",
    "- It is also called as Dirac notation.\n",
    "- <0|1> in general form is called as bra-ket where <0| is bra(row vector) and |1> is ket(Column vector).\n",
    "\n",
    "![0 1 state](assets/0_1_state.png)"
   ]
  },
  {
   "cell_type": "code",
   "execution_count": 2,
   "metadata": {},
   "outputs": [
    {
     "data": {
      "text/html": [
       "<pre style=\"word-wrap: normal;white-space: pre;background: #fff0;line-height: 1.1;font-family: &quot;Courier New&quot;,Courier,monospace\">     ┌─────────────────┐\n",
       "q_0: ┤ initialize(0,1) ├\n",
       "     └─────────────────┘</pre>"
      ],
      "text/plain": [
       "     ┌─────────────────┐\n",
       "q_0: ┤ initialize(0,1) ├\n",
       "     └─────────────────┘"
      ]
     },
     "execution_count": 2,
     "metadata": {},
     "output_type": "execute_result"
    }
   ],
   "source": [
    "qc = QuantumCircuit(1)  # quantum circuit with one qubit\n",
    "initial_state = [0,1]   # Initial_state as |1>\n",
    "qc.initialize(initial_state, 0) # Initialisation operation to the 0th qubit\n",
    "qc.draw('text')"
   ]
  },
  {
   "cell_type": "markdown",
   "metadata": {},
   "source": [
    "### Single Qubit Gates\n",
    "- Pauli X,Y,Z gates\n",
    "- Hadamard gate \n",
    "- X,Y,Z bases\n",
    "- Note - Initial base is Z and the initial qubit is 0. For the case below we have set it to 1."
   ]
  },
  {
   "cell_type": "code",
   "execution_count": 3,
   "metadata": {},
   "outputs": [
    {
     "data": {
      "image/png": "[encoded data removed]",
      "text/plain": [
       "<Figure size 368.306x144.48 with 1 Axes>"
      ]
     },
     "execution_count": 3,
     "metadata": {},
     "output_type": "execute_result"
    }
   ],
   "source": [
    "# Changing to X base from the common Z base.\n",
    "# Create the X-measurement function:\n",
    "def x_measurement(qc,qubit,cbit):\n",
    "    \"\"\"Measure 'qubit' in the X-basis, and store the result in 'cbit'\"\"\"\n",
    "    qc.h(qubit)\n",
    "    qc.measure(qubit, cbit)\n",
    "    qc.h(qubit)\n",
    "    return qc\n",
    "\n",
    "# Initialise our qubit and measure it\n",
    "qc = QuantumCircuit(1,1) # quantum circuit with one qubit and 1 classical bit\n",
    "initial_state = [0,1] #Initial_state as |1>\n",
    "initializer = qc.initialize(initial_state,0)\n",
    "x_measurement(qc, 0, 0)\n",
    "qc.draw()"
   ]
  },
  {
   "cell_type": "markdown",
   "metadata": {},
   "source": [
    "### Why Quantum?\n",
    "- Big(O)\n",
    "- RSA 250 - 829 bit number takes 2700 core years for factorization.\n"
   ]
  },
  {
   "cell_type": "code",
   "execution_count": 4,
   "metadata": {},
   "outputs": [],
   "source": [
    "rsa_250 = 2140324650240744961264423072839333563008614715144755017797754920881418023447140136643345519095804679610992851872470914587687396261921557363047454770520805119056493106687691590019759405693457452230589325976697471681738069364894699871578494975937497937"
   ]
  },
  {
   "cell_type": "markdown",
   "metadata": {},
   "source": [
    "# What is Cryptography?\n",
    "- Cryptography is the science of data encryption with number theory at it's core.\n",
    "- Symmetric key cryptography ( common key between the sender and receiver ) eg.Ceaser-cypher.\n",
    "- Various Modern algorithms (RSA,MD5,SHA-1)"
   ]
  },
  {
   "attachments": {},
   "cell_type": "markdown",
   "metadata": {},
   "source": [
    "![symmetric_key](assets/symmetrickey.png)"
   ]
  },
  {
   "cell_type": "markdown",
   "metadata": {},
   "source": [
    " # What is Quantum Cryptography?\n",
    " - Applying the concepts of Quantum mechanics with cryptography.\n",
    " - [BB84](https://www.quanta.guru/docs/cryptography/cryptography/) protocol for communication in quantum channel."
   ]
  },
  {
   "cell_type": "code",
   "execution_count": 5,
   "metadata": {},
   "outputs": [
    {
     "data": {
      "image/png": "[encoded data removed]",
      "text/plain": [
       "<Figure size 368.306x144.48 with 1 Axes>"
      ]
     },
     "metadata": {},
     "output_type": "display_data"
    },
    {
     "data": {
      "image/png": "[encoded data removed]",
      "text/plain": [
       "<Figure size 504x360 with 1 Axes>"
      ]
     },
     "execution_count": 5,
     "metadata": {},
     "output_type": "execute_result"
    }
   ],
   "source": [
    "# Protocol overview without Interception\n",
    "qc = QuantumCircuit(1,1)\n",
    "# Shaya prepares qubit in state |+>\n",
    "qc.h(0)\n",
    "qc.barrier()\n",
    "# Shaya now sends the qubit to Thomas\n",
    "# who measures it in the X-basis\n",
    "qc.h(0)\n",
    "qc.measure(0,0)\n",
    "\n",
    "# Draw and simulate circuit\n",
    "display(qc.draw())\n",
    "svs = Aer.get_backend('qasm_simulator')\n",
    "job = execute(qc, svs)\n",
    "qiskit.visualization.plot_histogram(job.result().get_counts())\n"
   ]
  },
  {
   "cell_type": "code",
   "execution_count": 6,
   "metadata": {},
   "outputs": [
    {
     "data": {
      "image/png": "[encoded data removed]",
      "text/plain": [
       "<Figure size 428.506x144.48 with 1 Axes>"
      ]
     },
     "metadata": {},
     "output_type": "display_data"
    },
    {
     "data": {
      "image/png": "[encoded data removed]",
      "text/plain": [
       "<Figure size 504x360 with 1 Axes>"
      ]
     },
     "execution_count": 6,
     "metadata": {},
     "output_type": "execute_result"
    }
   ],
   "source": [
    "# Protocol overview with Interception\n",
    "qc = QuantumCircuit(1,1)\n",
    "# Adam prepares qubit in state |+>\n",
    "qc.h(0)\n",
    "# Adam now sends the qubit to Brian\n",
    "# but Eva intercepts and tries to read it\n",
    "qc.measure(0, 0)\n",
    "qc.barrier()\n",
    "# Eva then passes this on to Brian\n",
    "# who measures it in the X-basis\n",
    "qc.h(0)\n",
    "qc.measure(0,0)\n",
    "\n",
    "# Draw and simulate circuit\n",
    "display(qc.draw())\n",
    "svs = Aer.get_backend('qasm_simulator')\n",
    "job = execute(qc, svs)\n",
    "qiskit.visualization.plot_histogram(job.result().get_counts())\n"
   ]
  },
  {
   "cell_type": "markdown",
   "metadata": {},
   "source": [
    "## Real application\n",
    "- Message being conveyed from Adam to Brian with Eva in communication channel:\n",
    "    - Without Interception\n",
    "    - With Interception"
   ]
  },
  {
   "cell_type": "code",
   "execution_count": 7,
   "metadata": {},
   "outputs": [],
   "source": [
    "# Necessary Functions\n",
    "\n",
    "def encode_message(bits, bases):\n",
    "    '''Creating an encoding function\n",
    "        @bits - message in bits\n",
    "        @bases - Quantum gates\n",
    "        returns message'''\n",
    "    message = []\n",
    "    for i in range(n):\n",
    "        qc = QuantumCircuit(1,1)\n",
    "        if bases[i] == 0: # Prepare qubit in Z-basis\n",
    "            if bits[i] == 0:\n",
    "                pass \n",
    "            else:\n",
    "                qc.x(0)\n",
    "        else: # Prepare qubit in X-basis\n",
    "            if bits[i] == 0:\n",
    "                qc.h(0)\n",
    "            else:\n",
    "                qc.x(0)\n",
    "                qc.h(0)\n",
    "        qc.barrier()\n",
    "        message.append(qc)\n",
    "    return message\n",
    "\n",
    "def measure_message(message, bases):\n",
    "    '''Measuring the computation from the \n",
    "        @message - message bits\n",
    "        @bases - quantum gates\n",
    "        returns measurements'''\n",
    "    backend = Aer.get_backend('qasm_simulator')\n",
    "    measurements = []\n",
    "    for q in range(n):\n",
    "        if bases[q] == 0: # measuring in Z-basis\n",
    "            message[q].measure(0,0)\n",
    "        if bases[q] == 1: # measuring in X-basis\n",
    "            message[q].h(0)\n",
    "            message[q].measure(0,0)\n",
    "        result = execute(message[q], backend, shots=1, memory=True).result()\n",
    "        measured_bit = int(result.get_memory()[0])\n",
    "        measurements.append(measured_bit)\n",
    "    return measurements\n",
    "\n",
    "def remove_garbage(a_bases, b_bases, bits):\n",
    "    '''Discards the uncommon bases\n",
    "        @a_bases - Adam's base\n",
    "        @b_bases - Brian's base\n",
    "        @bits - Message\n",
    "        returns good_bits'''\n",
    "    good_bits = []\n",
    "    for q in range(n):\n",
    "        if a_bases[q] == b_bases[q]:\n",
    "            # If both used the same basis, add\n",
    "            # this to the list of 'good' bits\n",
    "            good_bits.append(bits[q])\n",
    "    return good_bits\n",
    "\n",
    "def sample_bits(bits, selection):\n",
    "    '''Measures the random sample bits\n",
    "        @bits - Message\n",
    "        @selection - good_bits\n",
    "        returns sample'''\n",
    "    sample = []\n",
    "    for i in selection:\n",
    "        # use np.mod to make sure the\n",
    "        # bit we sample is always in \n",
    "        # the list range\n",
    "        i = np.mod(i, len(bits))\n",
    "        # pop(i) removes the element of the\n",
    "        # list at index 'i'\n",
    "        sample.append(bits.pop(i))\n",
    "    return sample\n"
   ]
  },
  {
   "cell_type": "code",
   "execution_count": 8,
   "metadata": {},
   "outputs": [
    {
     "name": "stdout",
     "output_type": "stream",
     "text": [
      "brian_sample = [0, 1, 0, 1, 1, 0, 0, 0, 0, 0, 0, 1, 0, 0, 0]\n",
      "adam_sample = [0, 1, 0, 1, 1, 0, 0, 0, 0, 0, 0, 1, 0, 0, 0]\n",
      "True\n"
     ]
    }
   ],
   "source": [
    "# Without Interception\n",
    "np.random.seed(seed=0)\n",
    "n = 100\n",
    "\n",
    "## Step 1\n",
    "# Adam generates bits\n",
    "adam_bits = randint(2, size=n)\n",
    "\n",
    "## Step 2\n",
    "# Create an array to tell us which qubits\n",
    "# are encoded in which bases\n",
    "adam_bases = randint(2, size=n)\n",
    "message = encode_message(adam_bits, adam_bases)\n",
    "\n",
    "## Step 3\n",
    "# Decide which basis to measure in:\n",
    "brian_bases = randint(2, size=n)\n",
    "brian_results = measure_message(message, brian_bases)\n",
    "\n",
    "## Step 4\n",
    "adam_key = remove_garbage(adam_bases, brian_bases, adam_bits)\n",
    "brian_key = remove_garbage(adam_bases, brian_bases, brian_results)\n",
    "\n",
    "## Step 5\n",
    "sample_size = 15\n",
    "bit_selection = randint(n, size=sample_size)\n",
    "\n",
    "brian_sample = sample_bits(brian_key, bit_selection)\n",
    "print(\"brian_sample = \" + str(brian_sample))\n",
    "adam_sample = sample_bits(adam_key, bit_selection)\n",
    "print(\"adam_sample = \"+ str(adam_sample))\n",
    "print(adam_sample==brian_sample)\n",
    "#print(\"key length = %i\" % len(adam_key))"
   ]
  },
  {
   "cell_type": "code",
   "execution_count": 9,
   "metadata": {},
   "outputs": [
    {
     "name": "stdout",
     "output_type": "stream",
     "text": [
      "brian_sample = [1, 1, 0, 0, 1, 0, 0, 1, 1, 0, 0, 0, 1, 0, 0]\n",
      "adam_sample = [1, 1, 0, 0, 1, 0, 0, 0, 0, 0, 0, 1, 0, 0, 0]\n",
      "False\n"
     ]
    }
   ],
   "source": [
    "# With Interception\n",
    "np.random.seed(seed=3)\n",
    "## Step 1\n",
    "adam_bits = randint(2, size=n)\n",
    "## Step 2\n",
    "adam_bases = randint(2, size=n)\n",
    "message = encode_message(adam_bits, adam_bases)\n",
    "## Interception!!\n",
    "eva_bases = randint(2, size=n)\n",
    "intercepted_message = measure_message(message, eva_bases)\n",
    "## Step 3\n",
    "brian_bases = randint(2, size=n)\n",
    "brian_results = measure_message(message, brian_bases)\n",
    "## Step 4\n",
    "brian_key = remove_garbage(adam_bases, brian_bases, brian_results)\n",
    "adam_key = remove_garbage(adam_bases, brian_bases, adam_bits)\n",
    "## Step 5\n",
    "sample_size = 15\n",
    "bit_selection = randint(n, size=sample_size)\n",
    "brian_sample = sample_bits(brian_key, bit_selection)\n",
    "print(\"brian_sample = \" + str(brian_sample))\n",
    "adam_sample = sample_bits(adam_key, bit_selection)\n",
    "print(\"adam_sample = \"+ str(adam_sample))\n",
    "print(adam_sample==brian_sample)"
   ]
  },
  {
   "cell_type": "markdown",
   "metadata": {},
   "source": [
    "## Risk Analysis\n",
    "Lower the qubits lower is the chance of getting caught while intercepting and Vice versa."
   ]
  },
  {
   "cell_type": "code",
   "execution_count": 11,
   "metadata": {},
   "outputs": [
    {
     "name": "stdout",
     "output_type": "stream",
     "text": [
      "Eva's interference was detected.\n"
     ]
    }
   ],
   "source": [
    "n = 100\n",
    "# Step 1\n",
    "adam_bits = randint(2, size=n)\n",
    "adam_bases = randint(2, size=n)\n",
    "# Step 2\n",
    "message = encode_message(adam_bits, adam_bases)\n",
    "# Interception!\n",
    "eva_bases = randint(2, size=n)\n",
    "intercepted_message = measure_message(message, eva_bases)\n",
    "# Step 3\n",
    "brian_bases = randint(2, size=n)\n",
    "brian_results = measure_message(message, brian_bases)\n",
    "# Step 4\n",
    "brian_key = remove_garbage(adam_bases, brian_bases, brian_results)\n",
    "adam_key = remove_garbage(adam_bases, brian_bases, adam_bits)\n",
    "# Step 5\n",
    "sample_size = 5 # Change this to something lower and see if \n",
    "                 # Eva can intercept the message without adam\n",
    "                 # and brian finding out\n",
    "bit_selection = randint(n, size=sample_size)\n",
    "brian_sample = sample_bits(brian_key, bit_selection)\n",
    "adam_sample = sample_bits(adam_key, bit_selection)\n",
    "\n",
    "if brian_sample != adam_sample:\n",
    "    print(\"Eva's interference was detected.\")\n",
    "else:\n",
    "    print(\"Eva went undetected!\")"
   ]
  },
  {
   "cell_type": "markdown",
   "metadata": {},
   "source": [
    "### Thanks to Qiskit for such an amazing explaination of concepts.\n",
    "You can read more [here](https://qiskit.org/textbook/what-is-quantum.html)."
   ]
  }
 ],
 "metadata": {
  "kernelspec": {
   "display_name": "Python 3",
   "language": "python",
   "name": "python3"
  },
  "language_info": {
   "codemirror_mode": {
    "name": "ipython",
    "version": 3
   },
   "file_extension": ".py",
   "mimetype": "text/x-python",
   "name": "python",
   "nbconvert_exporter": "python",
   "pygments_lexer": "ipython3",
   "version": "3.6.10"
  }
 },
 "nbformat": 4,
 "nbformat_minor": 4
}
